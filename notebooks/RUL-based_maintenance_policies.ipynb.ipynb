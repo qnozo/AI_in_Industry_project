{
 "cells": [
  {
   "cell_type": "code",
   "execution_count": 1,
   "metadata": {},
   "outputs": [],
   "source": [
    "%load_ext autoreload\n",
    "%autoreload 2\n",
    "\n",
    "import pandas as pd\n",
    "\n",
    "import matplotlib.pyplot as plt\n",
    "import numpy as np\n",
    "import os \n",
    "from pathlib import Path\n",
    "\n",
    "import utils.utils as utils\n",
    "import utils.models as models\n",
    "\n",
    "from tensorflow.keras import callbacks\n",
    "PATH = str(Path(os.getcwd()).parent)\n",
    "\n",
    "figsize=(14, 5)"
   ]
  },
  {
   "cell_type": "markdown",
   "metadata": {},
   "source": [
    "# Improve usage of unsupervised data for the definition of RUL-based maintenance policies"
   ]
  },
  {
   "cell_type": "markdown",
   "metadata": {},
   "source": [
    "## Data Loading and Preparation"
   ]
  },
  {
   "cell_type": "code",
   "execution_count": 2,
   "metadata": {},
   "outputs": [],
   "source": [
    "path = os.path.join(PATH, 'data')\n",
    "\n",
    "data = utils.load_cmapss_data(path, 'train_*.txt')\n",
    "\n",
    "# Identify input columns\n",
    "dt_in = list(data.columns[3:-1])\n"
   ]
  },
  {
   "cell_type": "code",
   "execution_count": 3,
   "metadata": {},
   "outputs": [
    {
     "data": {
      "text/html": [
       "<div>\n",
       "<style scoped>\n",
       "    .dataframe tbody tr th:only-of-type {\n",
       "        vertical-align: middle;\n",
       "    }\n",
       "\n",
       "    .dataframe tbody tr th {\n",
       "        vertical-align: top;\n",
       "    }\n",
       "\n",
       "    .dataframe thead th {\n",
       "        text-align: right;\n",
       "    }\n",
       "</style>\n",
       "<table border=\"1\" class=\"dataframe\">\n",
       "  <thead>\n",
       "    <tr style=\"text-align: right;\">\n",
       "      <th></th>\n",
       "      <th>src</th>\n",
       "      <th>machine</th>\n",
       "      <th>cycle</th>\n",
       "      <th>p1</th>\n",
       "      <th>p2</th>\n",
       "      <th>p3</th>\n",
       "      <th>s1</th>\n",
       "      <th>s2</th>\n",
       "      <th>s3</th>\n",
       "      <th>s4</th>\n",
       "      <th>...</th>\n",
       "      <th>s13</th>\n",
       "      <th>s14</th>\n",
       "      <th>s15</th>\n",
       "      <th>s16</th>\n",
       "      <th>s17</th>\n",
       "      <th>s18</th>\n",
       "      <th>s19</th>\n",
       "      <th>s20</th>\n",
       "      <th>s21</th>\n",
       "      <th>rul</th>\n",
       "    </tr>\n",
       "  </thead>\n",
       "  <tbody>\n",
       "    <tr>\n",
       "      <th>0</th>\n",
       "      <td>train_FD004</td>\n",
       "      <td>461</td>\n",
       "      <td>1</td>\n",
       "      <td>42.004902</td>\n",
       "      <td>0.8400</td>\n",
       "      <td>100.0</td>\n",
       "      <td>445.000000</td>\n",
       "      <td>549.679993</td>\n",
       "      <td>1343.430054</td>\n",
       "      <td>1112.930054</td>\n",
       "      <td>...</td>\n",
       "      <td>2387.989990</td>\n",
       "      <td>8074.830078</td>\n",
       "      <td>9.3335</td>\n",
       "      <td>0.02</td>\n",
       "      <td>330.0</td>\n",
       "      <td>2212.0</td>\n",
       "      <td>100.00</td>\n",
       "      <td>10.620000</td>\n",
       "      <td>6.3670</td>\n",
       "      <td>320</td>\n",
       "    </tr>\n",
       "    <tr>\n",
       "      <th>1</th>\n",
       "      <td>train_FD004</td>\n",
       "      <td>461</td>\n",
       "      <td>2</td>\n",
       "      <td>20.002001</td>\n",
       "      <td>0.7002</td>\n",
       "      <td>100.0</td>\n",
       "      <td>491.190002</td>\n",
       "      <td>606.070007</td>\n",
       "      <td>1477.609985</td>\n",
       "      <td>1237.500000</td>\n",
       "      <td>...</td>\n",
       "      <td>2387.729980</td>\n",
       "      <td>8046.129883</td>\n",
       "      <td>9.1913</td>\n",
       "      <td>0.02</td>\n",
       "      <td>361.0</td>\n",
       "      <td>2324.0</td>\n",
       "      <td>100.00</td>\n",
       "      <td>24.370001</td>\n",
       "      <td>14.6552</td>\n",
       "      <td>319</td>\n",
       "    </tr>\n",
       "    <tr>\n",
       "      <th>2</th>\n",
       "      <td>train_FD004</td>\n",
       "      <td>461</td>\n",
       "      <td>3</td>\n",
       "      <td>42.003799</td>\n",
       "      <td>0.8409</td>\n",
       "      <td>100.0</td>\n",
       "      <td>445.000000</td>\n",
       "      <td>548.950012</td>\n",
       "      <td>1343.119995</td>\n",
       "      <td>1117.050049</td>\n",
       "      <td>...</td>\n",
       "      <td>2387.969971</td>\n",
       "      <td>8066.620117</td>\n",
       "      <td>9.4007</td>\n",
       "      <td>0.02</td>\n",
       "      <td>329.0</td>\n",
       "      <td>2212.0</td>\n",
       "      <td>100.00</td>\n",
       "      <td>10.480000</td>\n",
       "      <td>6.4213</td>\n",
       "      <td>318</td>\n",
       "    </tr>\n",
       "    <tr>\n",
       "      <th>3</th>\n",
       "      <td>train_FD004</td>\n",
       "      <td>461</td>\n",
       "      <td>4</td>\n",
       "      <td>42.000000</td>\n",
       "      <td>0.8400</td>\n",
       "      <td>100.0</td>\n",
       "      <td>445.000000</td>\n",
       "      <td>548.700012</td>\n",
       "      <td>1341.239990</td>\n",
       "      <td>1118.030029</td>\n",
       "      <td>...</td>\n",
       "      <td>2388.020020</td>\n",
       "      <td>8076.049805</td>\n",
       "      <td>9.3369</td>\n",
       "      <td>0.02</td>\n",
       "      <td>328.0</td>\n",
       "      <td>2212.0</td>\n",
       "      <td>100.00</td>\n",
       "      <td>10.540000</td>\n",
       "      <td>6.4176</td>\n",
       "      <td>317</td>\n",
       "    </tr>\n",
       "    <tr>\n",
       "      <th>4</th>\n",
       "      <td>train_FD004</td>\n",
       "      <td>461</td>\n",
       "      <td>5</td>\n",
       "      <td>25.006300</td>\n",
       "      <td>0.6207</td>\n",
       "      <td>60.0</td>\n",
       "      <td>462.540009</td>\n",
       "      <td>536.099976</td>\n",
       "      <td>1255.229980</td>\n",
       "      <td>1033.589966</td>\n",
       "      <td>...</td>\n",
       "      <td>2028.079956</td>\n",
       "      <td>7865.799805</td>\n",
       "      <td>10.8366</td>\n",
       "      <td>0.02</td>\n",
       "      <td>305.0</td>\n",
       "      <td>1915.0</td>\n",
       "      <td>84.93</td>\n",
       "      <td>14.030000</td>\n",
       "      <td>8.6754</td>\n",
       "      <td>316</td>\n",
       "    </tr>\n",
       "  </tbody>\n",
       "</table>\n",
       "<p>5 rows × 28 columns</p>\n",
       "</div>"
      ],
      "text/plain": [
       "           src  machine  cycle         p1      p2     p3          s1  \\\n",
       "0  train_FD004      461      1  42.004902  0.8400  100.0  445.000000   \n",
       "1  train_FD004      461      2  20.002001  0.7002  100.0  491.190002   \n",
       "2  train_FD004      461      3  42.003799  0.8409  100.0  445.000000   \n",
       "3  train_FD004      461      4  42.000000  0.8400  100.0  445.000000   \n",
       "4  train_FD004      461      5  25.006300  0.6207   60.0  462.540009   \n",
       "\n",
       "           s2           s3           s4  ...          s13          s14  \\\n",
       "0  549.679993  1343.430054  1112.930054  ...  2387.989990  8074.830078   \n",
       "1  606.070007  1477.609985  1237.500000  ...  2387.729980  8046.129883   \n",
       "2  548.950012  1343.119995  1117.050049  ...  2387.969971  8066.620117   \n",
       "3  548.700012  1341.239990  1118.030029  ...  2388.020020  8076.049805   \n",
       "4  536.099976  1255.229980  1033.589966  ...  2028.079956  7865.799805   \n",
       "\n",
       "       s15   s16    s17     s18     s19        s20      s21  rul  \n",
       "0   9.3335  0.02  330.0  2212.0  100.00  10.620000   6.3670  320  \n",
       "1   9.1913  0.02  361.0  2324.0  100.00  24.370001  14.6552  319  \n",
       "2   9.4007  0.02  329.0  2212.0  100.00  10.480000   6.4213  318  \n",
       "3   9.3369  0.02  328.0  2212.0  100.00  10.540000   6.4176  317  \n",
       "4  10.8366  0.02  305.0  1915.0   84.93  14.030000   8.6754  316  \n",
       "\n",
       "[5 rows x 28 columns]"
      ]
     },
     "execution_count": 3,
     "metadata": {},
     "output_type": "execute_result"
    }
   ],
   "source": [
    "data_by_src = utils.split_by_field(data, field='src')\n",
    "\n",
    "dt = data_by_src['train_FD004']\n",
    "dt[dt_in] = dt[dt_in].astype(np.float32)\n",
    "\n",
    "dt.head()"
   ]
  },
  {
   "cell_type": "code",
   "execution_count": 4,
   "metadata": {},
   "outputs": [],
   "source": [
    "trs_ratio = 0.03 # Ratio of supervised experiments\n",
    "tru_ratio = 0.75 # Ration of supervised and unsupervised data\n",
    "\n",
    "np.random.seed(42)\n",
    "machines = dt.machine.unique()\n",
    "np.random.shuffle(machines)\n",
    "\n",
    "sep_trs = int(trs_ratio * len(machines))\n",
    "sep_tru = int(tru_ratio * len(machines))\n",
    "\n",
    "trs_mcn = list(machines[:sep_trs])\n",
    "tru_mcn = list(machines[sep_trs:sep_tru])\n",
    "ts_mcn = list(machines[sep_tru:])"
   ]
  },
  {
   "cell_type": "markdown",
   "metadata": {},
   "source": [
    "Let's chek how many machines we have in each group:"
   ]
  },
  {
   "cell_type": "code",
   "execution_count": 5,
   "metadata": {},
   "outputs": [
    {
     "name": "stdout",
     "output_type": "stream",
     "text": [
      "Num. machine: 7 (supervised), 179 (unsupervised), 63 (test)\n"
     ]
    }
   ],
   "source": [
    "print(f'Num. machine: {len(trs_mcn)} (supervised), {len(tru_mcn)} (unsupervised), {len(ts_mcn)} (test)')"
   ]
  },
  {
   "cell_type": "markdown",
   "metadata": {},
   "source": [
    "we can split the dataset according to this machine groups:"
   ]
  },
  {
   "cell_type": "code",
   "execution_count": 5,
   "metadata": {},
   "outputs": [],
   "source": [
    "tr, ts = utils.partition_by_machine(dt, trs_mcn + tru_mcn)\n",
    "trs, tru = utils.partition_by_machine(tr, trs_mcn)"
   ]
  },
  {
   "cell_type": "markdown",
   "metadata": {},
   "source": [
    "Let's check the number of examples for each group:"
   ]
  },
  {
   "cell_type": "code",
   "execution_count": 7,
   "metadata": {},
   "outputs": [
    {
     "name": "stdout",
     "output_type": "stream",
     "text": [
      "Num. samples: 1376 (supervised), 44009 (unsupervised), 15864 (test)\n"
     ]
    }
   ],
   "source": [
    "print(f'Num. samples: {len(trs)} (supervised), {len(tru)} (unsupervised), {len(ts)} (test)')"
   ]
  },
  {
   "cell_type": "markdown",
   "metadata": {},
   "source": [
    "Now we can standardize and normalize the input data."
   ]
  },
  {
   "cell_type": "code",
   "execution_count": 6,
   "metadata": {},
   "outputs": [],
   "source": [
    "# standardize\n",
    "\n",
    "trmean = tr[dt_in].mean()\n",
    "trstd = tr[dt_in].std().replace(to_replace=0, value=1) # handle static fields\n",
    "\n",
    "ts_s = ts.copy()\n",
    "ts_s[dt_in] = (ts_s[dt_in] - trmean) / trstd\n",
    "tr_s = trs.copy()\n",
    "tr_s[dt_in] = (tr_s[dt_in] - trmean) / trstd\n",
    "trs_s = trs.copy()\n",
    "trs_s[dt_in] = (trs_s[dt_in] - trmean) / trstd\n",
    "tru_s = tru.copy()\n",
    "tru_s[dt_in] = (tru_s[dt_in] - trmean) / trstd\n",
    "\n",
    "\n",
    "# normalize\n",
    "\n",
    "trmaxrul = tr['rul'].max()\n",
    "\n",
    "ts_s['rul'] = ts['rul'] / trmaxrul \n",
    "tr_s['rul'] = tr['rul'] / trmaxrul \n",
    "trs_s['rul'] = trs['rul'] / trmaxrul\n",
    "tru_s['rul'] = tru['rul'] / trmaxrul"
   ]
  },
  {
   "cell_type": "code",
   "execution_count": 17,
   "metadata": {},
   "outputs": [
    {
     "name": "stdout",
     "output_type": "stream",
     "text": [
      "Epoch 1/20\n",
      "43/43 [==============================] - 1s 1ms/step - loss: 0.0217\n",
      "Epoch 2/20\n",
      "43/43 [==============================] - 0s 2ms/step - loss: 0.0111\n",
      "Epoch 3/20\n",
      "43/43 [==============================] - 0s 2ms/step - loss: 0.0103\n",
      "Epoch 4/20\n",
      "43/43 [==============================] - 0s 1ms/step - loss: 0.0099\n",
      "Epoch 5/20\n",
      "43/43 [==============================] - 0s 1ms/step - loss: 0.0093\n",
      "Epoch 6/20\n",
      "43/43 [==============================] - 0s 1ms/step - loss: 0.0088\n",
      "Epoch 7/20\n",
      "43/43 [==============================] - 0s 2ms/step - loss: 0.0091\n",
      "Epoch 8/20\n",
      "43/43 [==============================] - 0s 1ms/step - loss: 0.0083\n",
      "Epoch 9/20\n",
      "43/43 [==============================] - 0s 974us/step - loss: 0.0076\n",
      "Epoch 10/20\n",
      "43/43 [==============================] - 0s 1ms/step - loss: 0.0084\n",
      "Epoch 11/20\n",
      "43/43 [==============================] - 0s 2ms/step - loss: 0.0070\n",
      "Epoch 12/20\n",
      "43/43 [==============================] - 0s 2ms/step - loss: 0.0068\n",
      "Epoch 13/20\n",
      "43/43 [==============================] - 0s 1ms/step - loss: 0.0065\n",
      "Epoch 14/20\n",
      "43/43 [==============================] - 0s 2ms/step - loss: 0.0071\n",
      "Epoch 15/20\n",
      "43/43 [==============================] - 0s 2ms/step - loss: 0.0060\n",
      "Epoch 16/20\n",
      "43/43 [==============================] - 0s 1ms/step - loss: 0.0059\n",
      "Epoch 17/20\n",
      "43/43 [==============================] - 0s 1ms/step - loss: 0.0058\n",
      "Epoch 18/20\n",
      "43/43 [==============================] - 0s 1ms/step - loss: 0.0057\n",
      "Epoch 19/20\n",
      "43/43 [==============================] - 0s 2ms/step - loss: 0.0056\n",
      "Epoch 20/20\n",
      "43/43 [==============================] - 0s 2ms/step - loss: 0.0056\n"
     ]
    }
   ],
   "source": [
    "nn = models.MLPRegressor(input_shape=len(dt_in), hidden=[32, 32])\n",
    "nn.compile(optimizer='Adam', loss='mse')\n",
    "\n",
    "history = nn.fit(trs_s[dt_in], trs_s['rul'], batch_size=32, epochs=20, verbose=1)"
   ]
  },
  {
   "cell_type": "markdown",
   "metadata": {},
   "source": [
    "## Domain Knowledge as Constraints\n",
    "\n",
    "We start by preparing a bit more the unsupervised data.\n",
    "\n",
    "* First, we _remove the end_ of the unsupervised data sequences\n",
    "* This simulate the fact that the machines are still operating"
   ]
  },
  {
   "cell_type": "code",
   "execution_count": 7,
   "metadata": {},
   "outputs": [],
   "source": [
    "tru_s_by_m = utils.split_by_field(tru_s, 'machine')\n",
    "np.random.seed(42)\n",
    "for mcn, tmp in tru_s_by_m.items():\n",
    "    cutoff = int(np.random.randint(10, 50, 1))\n",
    "    tru_s_by_m[mcn] = tmp.iloc[:-cutoff]\n",
    "tru_st = pd.concat(tru_s_by_m.values())"
   ]
  },
  {
   "cell_type": "markdown",
   "metadata": {},
   "source": [
    "Then we assign an invalid value to the RUL for unsupervised data."
   ]
  },
  {
   "cell_type": "code",
   "execution_count": 8,
   "metadata": {},
   "outputs": [],
   "source": [
    "trsu_s = pd.concat((trs_s, tru_st))\n",
    "trsu_s.loc[tru_st.index, 'rul'] = -1"
   ]
  },
  {
   "cell_type": "code",
   "execution_count": 11,
   "metadata": {},
   "outputs": [
    {
     "name": "stdout",
     "output_type": "stream",
     "text": [
      "Epoch 1/20\n",
      "1350/1350 [==============================] - 12s 8ms/step - loss: 0.0017 - mse: 0.0017 - cst: 0.0017\n",
      "Epoch 2/20\n",
      "1350/1350 [==============================] - 11s 8ms/step - loss: 5.2290e-04 - mse: 0.0017 - cst: 5.2290e-04\n",
      "Epoch 3/20\n",
      "1350/1350 [==============================] - 12s 9ms/step - loss: 4.9881e-04 - mse: 0.0015 - cst: 4.9881e-04\n",
      "Epoch 4/20\n",
      "1350/1350 [==============================] - 13s 9ms/step - loss: 4.4731e-04 - mse: 0.0013 - cst: 4.4731e-04\n",
      "Epoch 5/20\n",
      "1350/1350 [==============================] - 11s 8ms/step - loss: 4.1238e-04 - mse: 0.0012 - cst: 4.1238e-04\n",
      "Epoch 6/20\n",
      "1350/1350 [==============================] - 10s 8ms/step - loss: 4.1563e-04 - mse: 0.0011 - cst: 4.1563e-04\n",
      "Epoch 7/20\n",
      "1350/1350 [==============================] - 10s 8ms/step - loss: 4.0186e-04 - mse: 0.0010 - cst: 4.0186e-04\n",
      "Epoch 8/20\n",
      "1350/1350 [==============================] - 15s 11ms/step - loss: 3.9020e-04 - mse: 0.0010 - cst: 3.9020e-04\n",
      "Epoch 9/20\n",
      "1350/1350 [==============================] - 12s 9ms/step - loss: 3.7707e-04 - mse: 0.0011 - cst: 3.7707e-04\n",
      "Epoch 10/20\n",
      "1350/1350 [==============================] - 15s 11ms/step - loss: 3.7351e-04 - mse: 0.0011 - cst: 3.7351e-04\n",
      "Epoch 11/20\n",
      "1350/1350 [==============================] - 14s 10ms/step - loss: 3.6781e-04 - mse: 0.0013 - cst: 3.6781e-04\n",
      "Epoch 12/20\n",
      "1350/1350 [==============================] - 16s 12ms/step - loss: 3.6637e-04 - mse: 0.0012 - cst: 3.6637e-04\n",
      "Epoch 13/20\n",
      "1350/1350 [==============================] - 12s 9ms/step - loss: 3.6458e-04 - mse: 0.0012 - cst: 3.6458e-04\n",
      "Epoch 14/20\n",
      "1350/1350 [==============================] - 12s 9ms/step - loss: 3.6374e-04 - mse: 0.0013 - cst: 3.6374e-04\n",
      "Epoch 15/20\n",
      "1350/1350 [==============================] - 9s 7ms/step - loss: 3.6358e-04 - mse: 0.0015 - cst: 3.6358e-04\n",
      "Epoch 16/20\n",
      "1350/1350 [==============================] - 10s 7ms/step - loss: 3.6273e-04 - mse: 0.0014 - cst: 3.6273e-04\n",
      "Epoch 17/20\n",
      "1350/1350 [==============================] - 12s 9ms/step - loss: 3.5920e-04 - mse: 0.0014 - cst: 3.5920e-04\n",
      "Epoch 18/20\n",
      "1350/1350 [==============================] - 11s 8ms/step - loss: 3.5789e-04 - mse: 0.0014 - cst: 3.5789e-04\n",
      "Epoch 19/20\n",
      "1350/1350 [==============================] - 12s 9ms/step - loss: 3.5193e-04 - mse: 0.0013 - cst: 3.5193e-04\n",
      "Epoch 20/20\n",
      "1350/1350 [==============================] - 12s 9ms/step - loss: 3.5190e-04 - mse: 0.0014 - cst: 3.5190e-04\n"
     ]
    }
   ],
   "source": [
    "nn2 = models.CstRULRegressor(input_shape=len(dt_in), alpha=0, beta=1, maxrul=trmaxrul, hidden=[32, 32])\n",
    "batch_gen = models.CstBatchGenerator(trsu_s, dt_in, batch_size=32)\n",
    "cb = [callbacks.EarlyStopping(monitor='loss', patience=10, restore_best_weights=True)]\n",
    "nn2.compile(optimizer='Adam', run_eagerly=False)\n",
    "history = nn2.fit(batch_gen, epochs=20, verbose=1, callbacks=cb)"
   ]
  },
  {
   "cell_type": "code",
   "execution_count": 9,
   "metadata": {},
   "outputs": [
    {
     "name": "stdout",
     "output_type": "stream",
     "text": [
      "Epoch 1/20\n",
      "1350/1350 [==============================] - 11s 8ms/step - loss: -0.0175 - mse: 0.0017 - cst: 0.0174\n",
      "Epoch 2/20\n",
      "1350/1350 [==============================] - 11s 8ms/step - loss: -0.0501 - mse: 0.0019 - cst: 0.0142\n",
      "Epoch 3/20\n",
      "1350/1350 [==============================] - 10s 7ms/step - loss: -0.0815 - mse: 0.0016 - cst: 0.0134\n",
      "Epoch 4/20\n",
      "1350/1350 [==============================] - 11s 8ms/step - loss: -0.1137 - mse: 0.0015 - cst: 0.0132\n",
      "Epoch 5/20\n",
      "1350/1350 [==============================] - 11s 8ms/step - loss: -0.1460 - mse: 0.0014 - cst: 0.0131\n",
      "Epoch 6/20\n",
      "1350/1350 [==============================] - 11s 8ms/step - loss: -0.1784 - mse: 0.0013 - cst: 0.0130\n",
      "Epoch 7/20\n",
      "1350/1350 [==============================] - 15s 11ms/step - loss: -0.2105 - mse: 0.0013 - cst: 0.0129\n",
      "Epoch 8/20\n",
      "1350/1350 [==============================] - 12s 9ms/step - loss: -0.2425 - mse: 0.0013 - cst: 0.0129\n",
      "Epoch 9/20\n",
      "1350/1350 [==============================] - 14s 11ms/step - loss: -0.2751 - mse: 0.0013 - cst: 0.0129\n",
      "Epoch 10/20\n",
      "1350/1350 [==============================] - 16s 12ms/step - loss: -0.3063 - mse: 0.0013 - cst: 0.0128\n",
      "Epoch 11/20\n",
      "1350/1350 [==============================] - 11s 8ms/step - loss: -0.3398 - mse: 0.0014 - cst: 0.0128\n",
      "Epoch 12/20\n",
      "1350/1350 [==============================] - 10s 8ms/step - loss: -0.3709 - mse: 0.0014 - cst: 0.0128\n",
      "Epoch 13/20\n",
      "1350/1350 [==============================] - 11s 8ms/step - loss: -0.4011 - mse: 0.0015 - cst: 0.0127\n",
      "Epoch 14/20\n",
      "1350/1350 [==============================] - 10s 8ms/step - loss: -0.4344 - mse: 0.0015 - cst: 0.0127\n",
      "Epoch 15/20\n",
      "1350/1350 [==============================] - 11s 8ms/step - loss: -0.4663 - mse: 0.0016 - cst: 0.0127\n",
      "Epoch 16/20\n",
      "1350/1350 [==============================] - 12s 9ms/step - loss: -0.4965 - mse: 0.0015 - cst: 0.0126\n",
      "Epoch 17/20\n",
      "1350/1350 [==============================] - 11s 8ms/step - loss: -0.5286 - mse: 0.0016 - cst: 0.0126\n",
      "Epoch 18/20\n",
      "1350/1350 [==============================] - 12s 9ms/step - loss: -0.5624 - mse: 0.0015 - cst: 0.0127\n",
      "Epoch 19/20\n",
      "1350/1350 [==============================] - 10s 8ms/step - loss: -0.5927 - mse: 0.0016 - cst: 0.0126\n",
      "Epoch 20/20\n",
      "1350/1350 [==============================] - 9s 7ms/step - loss: -0.6239 - mse: 0.0015 - cst: 0.0126\n"
     ]
    }
   ],
   "source": [
    "nn3 = models.LagDualRULRegressor(input_shape=len(dt_in), maxrul=trmaxrul, hidden=[32, 32])\n",
    "batch_gen = models.CstBatchGenerator(trsu_s, dt_in, batch_size=32)\n",
    "cb = [callbacks.EarlyStopping(monitor='loss', patience=10, restore_best_weights=True)]\n",
    "nn3.compile(optimizer='Adam', run_eagerly=False)\n",
    "history = nn3.fit(batch_gen, epochs=20, verbose=1, callbacks=cb)"
   ]
  },
  {
   "cell_type": "markdown",
   "metadata": {},
   "source": [
    "## Evaluation\n"
   ]
  },
  {
   "cell_type": "markdown",
   "metadata": {},
   "source": [
    "### Baseline Approach"
   ]
  },
  {
   "cell_type": "code",
   "execution_count": 29,
   "metadata": {},
   "outputs": [
    {
     "data": {
      "image/png": "[encoded data removed]",
      "text/plain": [
       "<Figure size 648x216 with 2 Axes>"
      ]
     },
     "metadata": {
      "needs_background": "light"
     },
     "output_type": "display_data"
    }
   ],
   "source": [
    "trs_pred = nn.predict(trs_s[dt_in]).ravel() * trmaxrul\n",
    "stop = 1400 \n",
    "utils.plot_rul(trs_pred[:stop], trs[\"rul\"].iloc[:stop], same_scale=False, figsize=figsize)"
   ]
  },
  {
   "cell_type": "markdown",
   "metadata": {},
   "source": [
    "#### Unsupervised data"
   ]
  },
  {
   "cell_type": "code",
   "execution_count": null,
   "metadata": {},
   "outputs": [],
   "source": [
    "tru_pred = nn.predict(tru_s[dt_in]).ravel() * trmaxrul\n",
    "utils.plot_rul(tru_pred[:stop], tru[\"rul\"].iloc[:stop], same_scale=False, figsize=figsize)"
   ]
  },
  {
   "cell_type": "markdown",
   "metadata": {},
   "source": [
    "#### Test set"
   ]
  },
  {
   "cell_type": "code",
   "execution_count": null,
   "metadata": {},
   "outputs": [],
   "source": [
    "ts_pred = nn.predict(ts_s[dt_in]).ravel() * trmaxrul\n",
    "utils.plot_rul(ts_pred[:stop], ts[\"rul\"].iloc[:stop], same_scale=False, figsize=figsize)"
   ]
  },
  {
   "cell_type": "markdown",
   "metadata": {},
   "source": [
    "#### Cost Results"
   ]
  },
  {
   "cell_type": "code",
   "execution_count": null,
   "metadata": {},
   "outputs": [],
   "source": [
    "failtimes = dt.groupby('machine')['cycle'].max() \n",
    "safe_interval, maintenance_cost = failtimes.min(), failtimes.max()\n",
    "\n",
    "cmodel = models.RULCostModel(maintenance_cost=maintenance_cost, safe_interval=safe_interval)\n",
    "th_range = np.arange(-10, 30)\n",
    "trs_thr = utils.opt_threshold_and_plot(trs_s['machine'].values, trs_pred, th_range, cmodel, figsize=figsize)\n",
    "print(f'Optimal threshold for the training set: {trs_thr}')"
   ]
  }
 ],
 "metadata": {
  "interpreter": {
   "hash": "220b4d8a476f10b0456fc992a771fe48b57aad8b0e197e08038e090cf80e5ad5"
  },
  "kernelspec": {
   "display_name": "Python 3.8.12 ('ai_in_industry')",
   "language": "python",
   "name": "python3"
  },
  "language_info": {
   "codemirror_mode": {
    "name": "ipython",
    "version": 3
   },
   "file_extension": ".py",
   "mimetype": "text/x-python",
   "name": "python",
   "nbconvert_exporter": "python",
   "pygments_lexer": "ipython3",
   "version": "3.8.12"
  },
  "orig_nbformat": 4
 },
 "nbformat": 4,
 "nbformat_minor": 2
}
